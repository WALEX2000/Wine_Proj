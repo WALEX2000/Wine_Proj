{
 "cells": [
  {
   "cell_type": "markdown",
   "id": "c327b4bf",
   "metadata": {},
   "source": [
    "# ML Pipeline: Wine_1"
   ]
  },
  {
   "cell_type": "code",
   "execution_count": null,
   "id": "d2f171b0",
   "metadata": {},
   "outputs": [],
   "source": [
    "import mlblocks\n",
    "from mlblocks import MLPipeline\n",
    "from pprint import pprint"
   ]
  },
  {
   "cell_type": "code",
   "execution_count": null,
   "id": "27e60b16",
   "metadata": {},
   "outputs": [],
   "source": [
    "mlblocks.find_primitives('') # Primitive Lookup function"
   ]
  },
  {
   "cell_type": "code",
   "execution_count": null,
   "id": "e48cb600",
   "metadata": {},
   "outputs": [],
   "source": [
    "# List of Primitives in the Pipeline (Edit as needed)\n",
    "primitives = [\n",
    "    'xgboost.XGBClassifier',\n",
    "]\n",
    "\n",
    "# List of extra arguments to call each primitive with (Edit as needed)\n",
    "init_params = {\n",
    "    'xgboost.XGBClassifier' : {}\n",
    "}\n",
    "\n",
    "pipeline = MLPipeline(primitives=primitives, init_params=init_params)\n",
    "pipeline.get_diagram()"
   ]
  },
  {
   "cell_type": "code",
   "execution_count": null,
   "id": "cd233f6d",
   "metadata": {},
   "outputs": [],
   "source": [
    "# See Pipeline parameters\n",
    "pprint(pipeline.get_hyperparameters())"
   ]
  },
  {
   "cell_type": "code",
   "execution_count": null,
   "id": "1a31487b",
   "metadata": {},
   "outputs": [],
   "source": [
    "# Warning! Do not change the naming convention\n",
    "pipeline.save('./pipeline_annotations/Wine_1_pipeline.json')"
   ]
  }
 ],
 "metadata": {
  "language_info": {
   "name": "python"
  }
 },
 "nbformat": 4,
 "nbformat_minor": 5
}
