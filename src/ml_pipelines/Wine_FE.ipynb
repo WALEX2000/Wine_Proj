{
 "cells": [
  {
   "cell_type": "markdown",
   "id": "3cab66ad",
   "metadata": {},
   "source": [
    "# ML Pipeline: Wine_FE"
   ]
  },
  {
   "cell_type": "code",
   "execution_count": 2,
   "id": "d698255c",
   "metadata": {},
   "outputs": [],
   "source": [
    "import mlblocks\n",
    "from mlblocks import MLPipeline\n",
    "from pprint import pprint"
   ]
  },
  {
   "cell_type": "code",
   "execution_count": 28,
   "id": "b42b4686",
   "metadata": {},
   "outputs": [
    {
     "data": {
      "text/plain": [
       "['pandas.DataFrame.drop',\n",
       " 'pandas.DataFrame.drop_duplicates',\n",
       " 'pandas.DataFrame.dropna']"
      ]
     },
     "execution_count": 28,
     "metadata": {},
     "output_type": "execute_result"
    }
   ],
   "source": [
    "mlblocks.find_primitives('drop') # Primitive Lookup function"
   ]
  },
  {
   "cell_type": "code",
   "execution_count": 9,
   "id": "8a9df75f",
   "metadata": {},
   "outputs": [],
   "source": [
    "# List of Primitives in the Pipeline (Edit as needed)\n",
    "primitives = [\n",
    "    'mlblocks_primitives.custom_primitives.re_rate',\n",
    "    'pandas.DataFrame.drop',\n",
    "    'sklearn.ensemble.RandomForestClassifier'\n",
    "    # 'sklearn.preprocessing.StandardScaler',\n",
    "    # 'mlprimitives.custom.feature_selection.LassoFeatureSelector',\n",
    "    # 'xgboost.XGBRegressor',\n",
    "    # 'mlblocks_primitives.custom_primitives.round_pred'\n",
    "]\n",
    "\n",
    "# List of extra arguments to call each primitive with (Edit as needed)\n",
    "init_params = {\n",
    "    'pandas.DataFrame.drop' : {\n",
    "        'labels': ['pH', 'free sulfur dioxide'],\n",
    "        'axis' : 'columns',\n",
    "        'errors': 'raise'\n",
    "    }\n",
    "}\n",
    "\n",
    "outputs = {\n",
    "    \"X\" : \"X\",\n",
    "    \"y\" : \"y\"\n",
    "}\n",
    "\n",
    "pipeline = MLPipeline(primitives=primitives, init_params=init_params, output_names=outputs)\n",
    "pipeline.get_diagram(image_path=\".\")"
   ]
  },
  {
   "cell_type": "code",
   "execution_count": 26,
   "id": "8da0970d",
   "metadata": {},
   "outputs": [
    {
     "name": "stdout",
     "output_type": "stream",
     "text": [
      "{'mlblocks_primitives.custom_primitives.re_rate#1': {},\n",
      " 'pandas.DataFrame.drop#1': {'axis': 1,\n",
      "                             'errors': 'ignore',\n",
      "                             'labels': ['ph', 'free sulfur dioxide'],\n",
      "                             'level': None}}\n"
     ]
    }
   ],
   "source": [
    "# See Pipeline parameters\n",
    "pprint(pipeline.get_hyperparameters())"
   ]
  },
  {
   "cell_type": "code",
   "execution_count": 38,
   "id": "bbb0465e",
   "metadata": {},
   "outputs": [],
   "source": [
    "# Warning! Do not change the naming convention\n",
    "pipeline.save('./pipeline_annotations/Wine_FE_pipeline.json')"
   ]
  }
 ],
 "metadata": {
  "kernelspec": {
   "display_name": "Python 3.8.13 ('.venv': venv)",
   "language": "python",
   "name": "python3"
  },
  "language_info": {
   "codemirror_mode": {
    "name": "ipython",
    "version": 3
   },
   "file_extension": ".py",
   "mimetype": "text/x-python",
   "name": "python",
   "nbconvert_exporter": "python",
   "pygments_lexer": "ipython3",
   "version": "3.8.13"
  },
  "vscode": {
   "interpreter": {
    "hash": "c8cd4897cdbea87c6d8798a7bfafe0d7da5622d7ad58ab5002074ffd33c9120a"
   }
  }
 },
 "nbformat": 4,
 "nbformat_minor": 5
}
